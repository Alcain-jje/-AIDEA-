{
 "cells": [
  {
   "cell_type": "markdown",
   "metadata": {},
   "source": [
    "구축된 이커머스 감성사전 불러오기"
   ]
  },
  {
   "cell_type": "code",
   "execution_count": 1,
   "metadata": {},
   "outputs": [],
   "source": [
    "with open(\"./negative_words_self.txt\", encoding='utf-8') as neg:\n",
    "    negative = neg.readlines() \n",
    "negative = [neg.replace(\"\\n\", \"\") for neg in negative] \n",
    "\n",
    "with open(\"./positive_words_self.txt\", encoding='utf-8') as pos: \n",
    "    positive = pos.readlines()\n",
    "    \n",
    "negative = [neg.replace(\"\\n\", \"\") for neg in negative] \n",
    "positive = [pos.replace(\"\\n\", \"\") for pos in positive]"
   ]
  },
  {
   "cell_type": "markdown",
   "metadata": {},
   "source": [
    "라벨링할 리뷰 텍스트 데이터 불러오기"
   ]
  },
  {
   "cell_type": "code",
   "execution_count": 2,
   "metadata": {},
   "outputs": [],
   "source": [
    "import requests \n",
    "from bs4 import BeautifulSoup \n",
    "import re \n",
    "import pandas as pd \n",
    "from tqdm import tqdm"
   ]
  },
  {
   "cell_type": "code",
   "execution_count": 4,
   "metadata": {
    "scrolled": true
   },
   "outputs": [
    {
     "data": {
      "text/plain": [
       "0                                 자주 주문합니다 좋아요 자주 세일해주세요 \n",
       "1                                    좋아요 배송 빠르고 안전하고 좋아요 \n",
       "2                                          고니는 요즘 거의 없네요 \n",
       "3                                           세일해서 싸게 잘샀어요 \n",
       "4         대구탕 양념소스도 있고 세일해서 구입했어요.야채만 넣으면 맛있는 대구탕 완성입니다. \n",
       "                               ...                       \n",
       "10128                               플라스틱 케이스에 들어있어서 좋아요. \n",
       "10129                   한개는 적당히 익었고 한개는 새것으로 보내주셔서 좋았어요. \n",
       "10130                                        자주구매하는상품입니다 \n",
       "10131                                        달고 신산해서 좋아여 \n",
       "10132                                     달고 맛있어서 자주 먹어요 \n",
       "Name: content, Length: 10133, dtype: object"
      ]
     },
     "execution_count": 4,
     "metadata": {},
     "output_type": "execute_result"
    }
   ],
   "source": [
    "df = pd.read_csv('C:\\\\Users\\\\ox797\\\\Desktop\\\\크롤링 데이터\\\\test_data_ssg.csv',encoding='cp949')\n",
    "df.content"
   ]
  },
  {
   "cell_type": "markdown",
   "metadata": {},
   "source": [
    "긍정, 부정, 중립 단어 빈도수에 따른 라벨링 진행"
   ]
  },
  {
   "cell_type": "code",
   "execution_count": 5,
   "metadata": {},
   "outputs": [],
   "source": [
    "labels = []\n",
    "titles = []\n",
    "\n",
    "j = 0\n",
    "\n",
    "for title in df.content: \n",
    "    title_data = title \n",
    "    clean_title = re.sub('[-=+,#/\\?:^$.@*\\\"※~&%ㆍ!』\\\\‘|\\(\\)\\[\\]\\<\\>`\\'…\\\"\\“》]', '', title_data) \n",
    "    negative_flag = False \n",
    "    label = 0\n",
    "    for i in range(len(negative)):\n",
    "        if negative[i] in clean_title: \n",
    "            label = -1 \n",
    "            negative_flag = True\n",
    "            #print(\"negative 비교단어 : \", negative[i], \"clean_title : \", clean_title) \n",
    "            break\n",
    "            \n",
    "    if negative_flag == False: \n",
    "            \n",
    "        for i in range(len(positive)):\n",
    "            if positive[i] in clean_title: \n",
    "                label = 1 \n",
    "                #print(\"positive 비교단어 : \", positive[i], \"clean_title : \", clean_title) \n",
    "                break\n",
    "                    \n",
    "    titles.append(clean_title) \n",
    "    labels.append(label)\n",
    "\n",
    "\n",
    "my_title_df = pd.DataFrame({\"title\":titles, \"label\":labels})\n"
   ]
  },
  {
   "cell_type": "code",
   "execution_count": 6,
   "metadata": {},
   "outputs": [
    {
     "data": {
      "text/html": [
       "<div>\n",
       "<style scoped>\n",
       "    .dataframe tbody tr th:only-of-type {\n",
       "        vertical-align: middle;\n",
       "    }\n",
       "\n",
       "    .dataframe tbody tr th {\n",
       "        vertical-align: top;\n",
       "    }\n",
       "\n",
       "    .dataframe thead th {\n",
       "        text-align: right;\n",
       "    }\n",
       "</style>\n",
       "<table border=\"1\" class=\"dataframe\">\n",
       "  <thead>\n",
       "    <tr style=\"text-align: right;\">\n",
       "      <th></th>\n",
       "      <th>title</th>\n",
       "      <th>label</th>\n",
       "    </tr>\n",
       "  </thead>\n",
       "  <tbody>\n",
       "    <tr>\n",
       "      <th>0</th>\n",
       "      <td>자주 주문합니다 좋아요 자주 세일해주세요</td>\n",
       "      <td>1</td>\n",
       "    </tr>\n",
       "    <tr>\n",
       "      <th>1</th>\n",
       "      <td>좋아요 배송 빠르고 안전하고 좋아요</td>\n",
       "      <td>1</td>\n",
       "    </tr>\n",
       "    <tr>\n",
       "      <th>2</th>\n",
       "      <td>고니는 요즘 거의 없네요</td>\n",
       "      <td>0</td>\n",
       "    </tr>\n",
       "    <tr>\n",
       "      <th>3</th>\n",
       "      <td>세일해서 싸게 잘샀어요</td>\n",
       "      <td>1</td>\n",
       "    </tr>\n",
       "    <tr>\n",
       "      <th>4</th>\n",
       "      <td>대구탕 양념소스도 있고 세일해서 구입했어요야채만 넣으면 맛있는 대구탕 완성입니다</td>\n",
       "      <td>0</td>\n",
       "    </tr>\n",
       "    <tr>\n",
       "      <th>...</th>\n",
       "      <td>...</td>\n",
       "      <td>...</td>\n",
       "    </tr>\n",
       "    <tr>\n",
       "      <th>10128</th>\n",
       "      <td>플라스틱 케이스에 들어있어서 좋아요</td>\n",
       "      <td>1</td>\n",
       "    </tr>\n",
       "    <tr>\n",
       "      <th>10129</th>\n",
       "      <td>한개는 적당히 익었고 한개는 새것으로 보내주셔서 좋았어요</td>\n",
       "      <td>-1</td>\n",
       "    </tr>\n",
       "    <tr>\n",
       "      <th>10130</th>\n",
       "      <td>자주구매하는상품입니다</td>\n",
       "      <td>0</td>\n",
       "    </tr>\n",
       "    <tr>\n",
       "      <th>10131</th>\n",
       "      <td>달고 신산해서 좋아여</td>\n",
       "      <td>0</td>\n",
       "    </tr>\n",
       "    <tr>\n",
       "      <th>10132</th>\n",
       "      <td>달고 맛있어서 자주 먹어요</td>\n",
       "      <td>0</td>\n",
       "    </tr>\n",
       "  </tbody>\n",
       "</table>\n",
       "<p>10133 rows × 2 columns</p>\n",
       "</div>"
      ],
      "text/plain": [
       "                                                title  label\n",
       "0                             자주 주문합니다 좋아요 자주 세일해주세요       1\n",
       "1                                좋아요 배송 빠르고 안전하고 좋아요       1\n",
       "2                                      고니는 요즘 거의 없네요       0\n",
       "3                                       세일해서 싸게 잘샀어요       1\n",
       "4       대구탕 양념소스도 있고 세일해서 구입했어요야채만 넣으면 맛있는 대구탕 완성입니다       0\n",
       "...                                               ...    ...\n",
       "10128                            플라스틱 케이스에 들어있어서 좋아요       1\n",
       "10129                한개는 적당히 익었고 한개는 새것으로 보내주셔서 좋았어요      -1\n",
       "10130                                    자주구매하는상품입니다       0\n",
       "10131                                    달고 신산해서 좋아여       0\n",
       "10132                                 달고 맛있어서 자주 먹어요       0\n",
       "\n",
       "[10133 rows x 2 columns]"
      ]
     },
     "execution_count": 6,
     "metadata": {},
     "output_type": "execute_result"
    }
   ],
   "source": [
    "my_title_df"
   ]
  },
  {
   "cell_type": "code",
   "execution_count": 21,
   "metadata": {},
   "outputs": [
    {
     "data": {
      "text/html": [
       "<div>\n",
       "<style scoped>\n",
       "    .dataframe tbody tr th:only-of-type {\n",
       "        vertical-align: middle;\n",
       "    }\n",
       "\n",
       "    .dataframe tbody tr th {\n",
       "        vertical-align: top;\n",
       "    }\n",
       "\n",
       "    .dataframe thead th {\n",
       "        text-align: right;\n",
       "    }\n",
       "</style>\n",
       "<table border=\"1\" class=\"dataframe\">\n",
       "  <thead>\n",
       "    <tr style=\"text-align: right;\">\n",
       "      <th></th>\n",
       "      <th>title</th>\n",
       "      <th>label</th>\n",
       "    </tr>\n",
       "  </thead>\n",
       "  <tbody>\n",
       "    <tr>\n",
       "      <th>100</th>\n",
       "      <td>고니가 정말싱싱하고좋아요</td>\n",
       "      <td>1</td>\n",
       "    </tr>\n",
       "    <tr>\n",
       "      <th>101</th>\n",
       "      <td>물은 적게 넣고 끓이세요 양념장이 적어서</td>\n",
       "      <td>0</td>\n",
       "    </tr>\n",
       "    <tr>\n",
       "      <th>102</th>\n",
       "      <td>파손없이 신선하게 잘 도착했습니다 쓱배송 기사님 요청사항 매번 잘 챙겨주시고 시간...</td>\n",
       "      <td>1</td>\n",
       "    </tr>\n",
       "    <tr>\n",
       "      <th>103</th>\n",
       "      <td>매번  구매하는 제품 입니다</td>\n",
       "      <td>0</td>\n",
       "    </tr>\n",
       "    <tr>\n",
       "      <th>104</th>\n",
       "      <td>맛있어요 집에서 종종먹기 시켜먹기 너무 좋아요</td>\n",
       "      <td>1</td>\n",
       "    </tr>\n",
       "    <tr>\n",
       "      <th>...</th>\n",
       "      <td>...</td>\n",
       "      <td>...</td>\n",
       "    </tr>\n",
       "    <tr>\n",
       "      <th>299</th>\n",
       "      <td>아주 깔끔하고 편리하게 한끼해결하기 좋아요</td>\n",
       "      <td>1</td>\n",
       "    </tr>\n",
       "    <tr>\n",
       "      <th>300</th>\n",
       "      <td>생각보다 별로예요</td>\n",
       "      <td>-1</td>\n",
       "    </tr>\n",
       "    <tr>\n",
       "      <th>301</th>\n",
       "      <td>맛이 좋와서 재주문 합니다</td>\n",
       "      <td>0</td>\n",
       "    </tr>\n",
       "    <tr>\n",
       "      <th>302</th>\n",
       "      <td>자주먹는 제품 편하게 잘받아보았습니다</td>\n",
       "      <td>0</td>\n",
       "    </tr>\n",
       "    <tr>\n",
       "      <th>303</th>\n",
       "      <td>자주 구매하는 반찬이예요 야채가 없어서 집에서 준비 해야하지만 맛은 좋아요</td>\n",
       "      <td>1</td>\n",
       "    </tr>\n",
       "  </tbody>\n",
       "</table>\n",
       "<p>204 rows × 2 columns</p>\n",
       "</div>"
      ],
      "text/plain": [
       "                                                 title  label\n",
       "100                                     고니가 정말싱싱하고좋아요       1\n",
       "101                            물은 적게 넣고 끓이세요 양념장이 적어서       0\n",
       "102   파손없이 신선하게 잘 도착했습니다 쓱배송 기사님 요청사항 매번 잘 챙겨주시고 시간...      1\n",
       "103                                   매번  구매하는 제품 입니다       0\n",
       "104                         맛있어요 집에서 종종먹기 시켜먹기 너무 좋아요       1\n",
       "..                                                 ...    ...\n",
       "299                           아주 깔끔하고 편리하게 한끼해결하기 좋아요       1\n",
       "300                                         생각보다 별로예요      -1\n",
       "301                                    맛이 좋와서 재주문 합니다       0\n",
       "302                              자주먹는 제품 편하게 잘받아보았습니다       0\n",
       "303         자주 구매하는 반찬이예요 야채가 없어서 집에서 준비 해야하지만 맛은 좋아요       1\n",
       "\n",
       "[204 rows x 2 columns]"
      ]
     },
     "execution_count": 21,
     "metadata": {},
     "output_type": "execute_result"
    }
   ],
   "source": [
    "my_title_df[100:304]"
   ]
  },
  {
   "cell_type": "code",
   "execution_count": 8,
   "metadata": {},
   "outputs": [],
   "source": [
    "my_title_df.to_csv('n_test_data.csv')"
   ]
  },
  {
   "cell_type": "code",
   "execution_count": null,
   "metadata": {},
   "outputs": [],
   "source": []
  }
 ],
 "metadata": {
  "kernelspec": {
   "display_name": "Python 3",
   "language": "python",
   "name": "python3"
  },
  "language_info": {
   "codemirror_mode": {
    "name": "ipython",
    "version": 3
   },
   "file_extension": ".py",
   "mimetype": "text/x-python",
   "name": "python",
   "nbconvert_exporter": "python",
   "pygments_lexer": "ipython3",
   "version": "3.8.5"
  }
 },
 "nbformat": 4,
 "nbformat_minor": 4
}
